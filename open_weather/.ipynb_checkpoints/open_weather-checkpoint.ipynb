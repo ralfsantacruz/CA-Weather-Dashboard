{
 "cells": [
  {
   "cell_type": "code",
   "execution_count": 25,
   "metadata": {},
   "outputs": [],
   "source": [
    "import requests\n",
    "from pprint import pprint"
   ]
  },
  {
   "cell_type": "code",
   "execution_count": 26,
   "metadata": {},
   "outputs": [],
   "source": [
    "# Get coordinates for 1000 US cities.\n",
    "\n",
    "def city_coordinates():\n",
    "    \"\"\"\n",
    "    Returns dictionary of cities w/their coordinates.\n",
    "    \"\"\"\n",
    "    \n",
    "    base_url  = \"https://public.opendatasoft.com/api/records/1.0/search/?\"\n",
    "    query = \"dataset=1000-largest-us-cities-by-population-with-geographic-coordinates&sort=-rank&facet=city&facet=state&rows=1000\"\n",
    "\n",
    "    result = requests.get(base_url+query).json()\n",
    "\n",
    "    records = result['records']\n",
    "\n",
    "    dic = {}\n",
    "\n",
    "    for record in records:\n",
    "        dic[record['fields']['city']] = record['fields']['coordinates']\n",
    "    \n",
    "    return dic"
   ]
  },
  {
   "cell_type": "code",
   "execution_count": 27,
   "metadata": {},
   "outputs": [],
   "source": [
    "coordinates = city_coordinates()"
   ]
  },
  {
   "cell_type": "code",
   "execution_count": 58,
   "metadata": {},
   "outputs": [],
   "source": [
    "# Get pollution data for 1000 US cities\n",
    "\n",
    "def pollution(coordinates):\n",
    "    \"\"\"\n",
    "    Returns pollution data from list of coordinates.\n",
    "    \"\"\"\n",
    "    from config import b_api_key \n",
    "    \n",
    "    pollution_data = []\n",
    "    \n",
    "    for k,v in coordinates.items():\n",
    "        try:\n",
    "            dic = {}\n",
    "\n",
    "            lat = v[0]\n",
    "            lng = v[1]\n",
    "            base_url = f\"https://api.breezometer.com/air-quality/v2/current-conditions?lat={lat}&lon={lng}&key={b_api_key}&start_datetime=2018-10-21T06:00:00&end_datetime=2018-11-21T08:00:00\"\n",
    "\n",
    "            data = requests.get(base_url).json()\n",
    "\n",
    "            baqi = data['data']['indexes']['baqi']\n",
    "            dic[k] = baqi\n",
    "            dic[k]['coordinates'] = v\n",
    "\n",
    "            pollution_data.append(dic)\n",
    "        except:\n",
    "            print(f\"Error accessing {k}'s data. Skipping...\")\n",
    "            pass\n",
    "\n",
    "    return pollution_data"
   ]
  },
  {
   "cell_type": "code",
   "execution_count": 46,
   "metadata": {},
   "outputs": [
    {
     "name": "stdout",
     "output_type": "stream",
     "text": [
      "Error accessing Anchorage's data. Skipping...\n"
     ]
    }
   ],
   "source": [
    "pollution_data = pollution(coordinates)"
   ]
  },
  {
   "cell_type": "code",
   "execution_count": 52,
   "metadata": {},
   "outputs": [],
   "source": [
    "# pprint(pollution_data)"
   ]
  },
  {
   "cell_type": "code",
   "execution_count": 30,
   "metadata": {},
   "outputs": [],
   "source": [
    "def num_days_ago(days):\n",
    "    import datetime as dt\n",
    "    from datetime import timedelta\n",
    "    date = dt.now() - timedelta(days=days)\n",
    "    return dt.strftime(date, \"%Y-%m-%d\")"
   ]
  },
  {
   "cell_type": "code",
   "execution_count": 31,
   "metadata": {
    "scrolled": true
   },
   "outputs": [],
   "source": [
    "# get past 30 days:\n",
    "def last_x_days(days):\n",
    "    \"\"\" \n",
    "    Returns a list of last x days.\n",
    "    \"\"\"\n",
    "    dates = []\n",
    "    for day in range(days):\n",
    "        dates.append(num_days_ago(day))\n",
    "\n",
    "    return dates"
   ]
  },
  {
   "cell_type": "code",
   "execution_count": null,
   "metadata": {},
   "outputs": [],
   "source": [
    "# to make graphs/visualization/heatmap of cities with most pollution:\n",
    "# plot coordinates against a leaflet map, make marker sizes proportioinate to aqi.\n",
    "# want all historical data in last 30 days.\n",
    "# can make a plot that will have a sliding scale to have past 30 days for each city if user chooses city. "
   ]
  },
  {
   "cell_type": "code",
   "execution_count": 56,
   "metadata": {},
   "outputs": [],
   "source": [
    "def get_coords(location):\n",
    "    \"\"\"\n",
    "    Returns coordinates of address for given input.\n",
    "    \"\"\"\n",
    "    from config import g_api_key\n",
    "    base_url = f\"https://maps.googleapis.com/maps/api/geocode/json?address={location}&key={g_api_key}\"\n",
    "    \n",
    "    data = requests.get(base_url).json()\n",
    "    loc = data['results'][0]['geometry']['location']\n",
    "    \n",
    "    lat = loc['lat']\n",
    "    lng = loc['lng']\n",
    "    \n",
    "    return lat,lng"
   ]
  },
  {
   "cell_type": "code",
   "execution_count": 59,
   "metadata": {},
   "outputs": [
    {
     "ename": "ImportError",
     "evalue": "cannot import name 'g_api_key'",
     "output_type": "error",
     "traceback": [
      "\u001b[1;31m---------------------------------------------------------------------------\u001b[0m",
      "\u001b[1;31mImportError\u001b[0m                               Traceback (most recent call last)",
      "\u001b[1;32m<ipython-input-59-b3547b45fd11>\u001b[0m in \u001b[0;36m<module>\u001b[1;34m\u001b[0m\n\u001b[1;32m----> 1\u001b[1;33m \u001b[0mget_coords\u001b[0m\u001b[1;33m(\u001b[0m\u001b[1;34m\"san francisco\"\u001b[0m\u001b[1;33m)\u001b[0m\u001b[1;33m\u001b[0m\u001b[0m\n\u001b[0m",
      "\u001b[1;32m<ipython-input-56-c8de541d6311>\u001b[0m in \u001b[0;36mget_coords\u001b[1;34m(location)\u001b[0m\n\u001b[0;32m      3\u001b[0m     \u001b[0mReturns\u001b[0m \u001b[0mcoordinates\u001b[0m \u001b[0mof\u001b[0m \u001b[0maddress\u001b[0m \u001b[1;32mfor\u001b[0m \u001b[0mgiven\u001b[0m \u001b[0minput\u001b[0m\u001b[1;33m.\u001b[0m\u001b[1;33m\u001b[0m\u001b[0m\n\u001b[0;32m      4\u001b[0m     \"\"\"\n\u001b[1;32m----> 5\u001b[1;33m     \u001b[1;32mfrom\u001b[0m \u001b[0mconfig\u001b[0m \u001b[1;32mimport\u001b[0m \u001b[0mg_api_key\u001b[0m\u001b[1;33m\u001b[0m\u001b[0m\n\u001b[0m\u001b[0;32m      6\u001b[0m     \u001b[0mbase_url\u001b[0m \u001b[1;33m=\u001b[0m \u001b[1;34mf\"https://maps.googleapis.com/maps/api/geocode/json?address={location}&key={g_api_key}\"\u001b[0m\u001b[1;33m\u001b[0m\u001b[0m\n\u001b[0;32m      7\u001b[0m \u001b[1;33m\u001b[0m\u001b[0m\n",
      "\u001b[1;31mImportError\u001b[0m: cannot import name 'g_api_key'"
     ]
    }
   ],
   "source": [
    "get_coords(\"san francisco\")"
   ]
  }
 ],
 "metadata": {
  "kernelspec": {
   "display_name": "PythonData",
   "language": "python",
   "name": "pythondata"
  },
  "language_info": {
   "codemirror_mode": {
    "name": "ipython",
    "version": 3
   },
   "file_extension": ".py",
   "mimetype": "text/x-python",
   "name": "python",
   "nbconvert_exporter": "python",
   "pygments_lexer": "ipython3",
   "version": "3.6.0"
  }
 },
 "nbformat": 4,
 "nbformat_minor": 2
}
