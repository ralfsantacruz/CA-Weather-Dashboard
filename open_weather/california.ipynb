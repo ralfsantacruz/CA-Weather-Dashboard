{
 "cells": [
  {
   "cell_type": "code",
   "execution_count": 14,
   "metadata": {},
   "outputs": [],
   "source": [
    "import requests\n",
    "\n",
    "from california_cities import ca_cities\n",
    "from graph_gen import get_coords\n",
    "from pprint import pprint\n",
    "import pandas as pd"
   ]
  },
  {
   "cell_type": "code",
   "execution_count": 18,
   "metadata": {},
   "outputs": [
    {
     "name": "stdout",
     "output_type": "stream",
     "text": [
      "['Adelanto, CA', 'Agoura Hills, CA', 'Alameda, CA', 'Albany, CA', 'Alhambra, CA', 'Aliso Viejo, CA', 'Alturas, CA', 'Amador City, CA', 'American Canyon, CA', 'Anaheim, CA', 'Anderson, CA', 'Angels Camp, CA', 'Antioch, CA', 'Apple Valley, CA', 'Arcadia, CA', 'Arcata, CA', 'Arroyo Grande, CA', 'Artesia, CA', 'Arvin, CA', 'Atascadero, CA', 'Atherton, CA', 'Atwater, CA', 'Auburn, CA', 'Avalon, CA', 'Avenal, CA', 'Azusa, CA', 'Bakersfield, CA', 'Baldwin Park, CA', 'Banning, CA', 'Barstow, CA', 'Beaumont, CA', 'Bell, CA', 'Bell Gardens, CA', 'Bellflower, CA', 'Belmont, CA', 'Belvedere, CA', 'Benicia, CA', 'Berkeley, CA', 'Beverly Hills, CA', 'Big Bear Lake, CA', 'Biggs, CA', 'Bishop, CA', 'Blue Lake, CA', 'Blythe, CA', 'Bradbury, CA', 'Brawley, CA', 'Brea, CA', 'Brentwood, CA', 'Brisbane, CA', 'Buellton, CA', 'Buena Park, CA', 'Burbank, CA', 'Burlingame, CA', 'Calabasas, CA', 'Calexico, CA', 'California City, CA', 'Calimesa, CA', 'Calipatria, CA', 'Calistoga, CA', 'Camarillo, CA', 'Campbell, CA', 'Canyon Lake, CA', 'Capitola, CA', 'Carlsbad, CA', 'Carmel-by-the-Sea, CA', 'Carpinteria, CA', 'Carson, CA', 'Cathedral City, CA', 'Ceres, CA', 'Cerritos, CA', 'Chico, CA', 'Chino, CA', 'Chino Hills, CA', 'Chowchilla, CA', 'Chula Vista, CA', 'Citrus Heights, CA', 'Claremont, CA', 'Clayton, CA', 'Clearlake, CA', 'Cloverdale, CA', 'Clovis, CA', 'Coachella, CA', 'Coalinga, CA', 'Colfax, CA', 'Colma, CA', 'Colton, CA', 'Colusa, CA', 'Commerce, CA', 'Compton, CA', 'Concord, CA', 'Corcoran, CA', 'Corning, CA', 'Corona, CA', 'Coronado, CA', 'Corte Madera, CA', 'Costa Mesa, CA', 'Cotati, CA', 'Covina, CA', 'Crescent City, CA', 'Cudahy, CA', 'Culver City, CA', 'Cupertino, CA', 'Cypress, CA', 'Daly City, CA', 'Dana Point, CA', 'Danville, CA', 'Davis, CA', 'Del Mar, CA', 'Del Rey Oaks, CA', 'Delano, CA', 'Desert Hot Springs, CA', 'Diamond Bar, CA', 'Dinuba, CA', 'Dixon, CA', 'Dorris, CA', 'Dos Palos, CA', 'Downey, CA', 'Duarte, CA', 'Dublin, CA', 'Dunsmuir, CA', 'East Palo Alto, CA', 'Eastvale, CA', 'El Cajon, CA', 'El Centro, CA', 'El Cerrito, CA', 'El Monte, CA', 'El Segundo, CA', 'Elk Grove, CA', 'Emeryville, CA', 'Encinitas, CA', 'Escalon, CA', 'Escondido, CA', 'Etna, CA', 'Eureka, CA', 'Exeter, CA', 'Fairfax, CA', 'Fairfield, CA', 'Farmersville, CA', 'Ferndale, CA', 'Fillmore, CA', 'Firebaugh, CA', 'Folsom, CA', 'Fontana, CA', 'Fort Bragg, CA', 'Fort Jones, CA', 'Fortuna, CA', 'Foster City, CA', 'Fountain Valley, CA', 'Fowler, CA', 'Fremont, CA', 'Fresno, CA', 'Fullerton, CA', 'Galt, CA', 'Garden Grove, CA', 'Gardena, CA', 'Gilroy, CA', 'Glendale, CA', 'Glendora, CA', 'Goleta, CA', 'Gonzales, CA', 'Grand Terrace, CA', 'Grass Valley, CA', 'Greenfield, CA', 'Gridley, CA', 'Grover Beach, CA', 'Guadalupe, CA', 'Gustine, CA', 'Half Moon Bay, CA', 'Hanford, CA', 'Hawaiian Gardens, CA', 'Hawthorne, CA', 'Hayward, CA', 'Healdsburg, CA', 'Hemet, CA', 'Hercules, CA', 'Hermosa Beach, CA', 'Hesperia, CA', 'Hidden Hills, CA', 'Highland, CA', 'Hillsborough, CA', 'Hollister, CA', 'Holtville, CA', 'Hughson, CA', 'Huntington Beach, CA', 'Huntington Park, CA', 'Huron, CA', 'Imperial, CA', 'Imperial Beach, CA', 'Indian Wells, CA', 'Indio, CA', 'Industry, CA', 'Inglewood, CA', 'Ione, CA', 'Irvine, CA', 'Irwindale, CA', 'Isleton, CA', 'Jackson, CA', 'Jurupa Valley, CA', 'Kerman, CA', 'King City, CA', 'Kingsburg, CA', 'La Cañada Flintridge, CA', 'La Habra, CA', 'La Habra Heights, CA', 'La Mesa, CA', 'La Mirada, CA', 'La Palma, CA', 'La Puente, CA', 'La Quinta, CA', 'La Verne, CA', 'Lafayette, CA', 'Laguna Beach, CA', 'Laguna Hills, CA', 'Laguna Niguel, CA', 'Laguna Woods, CA', 'Lake Elsinore, CA', 'Lake Forest, CA', 'Lakeport, CA', 'Lakewood, CA', 'Lancaster, CA', 'Larkspur, CA', 'Lathrop, CA', 'Lawndale, CA', 'Lemon Grove, CA', 'Lemoore, CA', 'Lincoln, CA', 'Lindsay, CA', 'Live Oak, CA', 'Livermore, CA', 'Livingston, CA', 'Lodi, CA', 'Loma Linda, CA', 'Lomita, CA', 'Lompoc, CA', 'Long Beach, CA', 'Loomis, CA', 'Los Alamitos, CA', 'Los Altos, CA', 'Los Altos Hills, CA', 'Los Angeles, CA', 'Los Banos, CA', 'Los Gatos, CA', 'Loyalton, CA', 'Lynwood, CA', 'Madera, CA', 'Malibu, CA', 'Mammoth Lakes, CA', 'Manhattan Beach, CA', 'Manteca, CA', 'Maricopa, CA', 'Marina, CA', 'Martinez, CA', 'Marysville, CA', 'Maywood, CA', 'McFarland, CA', 'Mendota, CA', 'Menifee, CA', 'Menlo Park, CA', 'Merced, CA', 'Mill Valley, CA', 'Millbrae, CA', 'Milpitas, CA', 'Mission Viejo, CA', 'Modesto, CA', 'Monrovia, CA', 'Montague, CA', 'Montclair, CA', 'Monte Sereno, CA', 'Montebello, CA', 'Monterey, CA', 'Monterey Park, CA', 'Moorpark, CA', 'Moraga, CA', 'Moreno Valley, CA', 'Morgan Hill, CA', 'Morro Bay, CA', 'Mount Shasta, CA', 'Mountain View, CA', 'Murrieta, CA', 'Napa, CA', 'National City, CA', 'Needles, CA', 'Nevada City, CA', 'Newark, CA', 'Newman, CA', 'Newport Beach, CA', 'Norco, CA', 'Norwalk, CA', 'Novato, CA', 'Oakdale, CA', 'Oakland, CA', 'Oakley, CA', 'Oceanside, CA', 'Ojai, CA', 'Ontario, CA', 'Orange, CA', 'Orange Cove, CA', 'Orinda, CA', 'Orland, CA', 'Oroville, CA', 'Oxnard, CA', 'Pacific Grove, CA', 'Pacifica, CA', 'Palm Desert, CA', 'Palm Springs, CA', 'Palmdale, CA', 'Palo Alto, CA', 'Palos Verdes Estates, CA', 'Paradise, CA', 'Paramount, CA', 'Parlier, CA', 'Pasadena, CA', 'Paso Robles, CA', 'Patterson, CA', 'Perris, CA', 'Petaluma, CA', 'Pico Rivera, CA', 'Piedmont, CA', 'Pinole, CA', 'Pismo Beach, CA', 'Pittsburg, CA', 'Placentia, CA', 'Placerville, CA', 'Pleasant Hill, CA', 'Pleasanton, CA', 'Plymouth, CA', 'Point Arena, CA', 'Pomona, CA', 'Port Hueneme, CA', 'Porterville, CA', 'Portola, CA', 'Portola Valley, CA', 'Poway, CA', 'Rancho Cordova, CA', 'Rancho Cucamonga, CA', 'Rancho Mirage, CA', 'Rancho Palos Verdes, CA', 'Rancho Santa Margarita, CA', 'Red Bluff, CA', 'Redding, CA', 'Redlands, CA', 'Redondo Beach, CA', 'Redwood City, CA', 'Reedley, CA', 'Rialto, CA', 'Richmond, CA', 'Ridgecrest, CA', 'Rio Dell, CA', 'Rio Vista, CA', 'Ripon, CA', 'Riverbank, CA', 'Riverside, CA', 'Rocklin, CA', 'Rohnert Park, CA', 'Rolling Hills, CA', 'Rolling Hills Estates, CA', 'Rosemead, CA', 'Roseville, CA', 'Ross, CA', 'Sacramento, CA', 'St. Helena, CA', 'Salinas, CA', 'San Anselmo, CA', 'San Bernardino, CA', 'San Bruno, CA', 'San Carlos, CA', 'San Clemente, CA', 'San Diego, CA', 'San Dimas, CA', 'San Fernando, CA', 'San Francisco, CA', 'San Gabriel, CA', 'San Jacinto, CA', 'San Joaquin, CA', 'San Jose, CA', 'San Juan Bautista, CA', 'San Juan Capistrano, CA', 'San Leandro, CA', 'San Luis Obispo, CA', 'San Marcos, CA', 'San Marino, CA', 'San Mateo, CA', 'San Pablo, CA', 'San Rafael, CA', 'San Ramon, CA', 'Sand City, CA', 'Sanger, CA', 'Santa Ana, CA', 'Santa Barbara, CA', 'Santa Clara, CA', 'Santa Clarita, CA', 'Santa Cruz, CA', 'Santa Fe Springs, CA', 'Santa Maria, CA', 'Santa Monica, CA', 'Santa Paula, CA', 'Santa Rosa, CA', 'Santee, CA', 'Saratoga, CA', 'Sausalito, CA', 'Scotts Valley, CA', 'Seal Beach, CA', 'Seaside, CA', 'Sebastopol, CA', 'Selma, CA', 'Shafter, CA', 'Shasta Lake, CA', 'Sierra Madre, CA', 'Signal Hill, CA', 'Simi Valley, CA', 'Solana Beach, CA', 'Soledad, CA', 'Solvang, CA', 'Sonoma, CA', 'Sonora, CA', 'South El Monte, CA', 'South Gate, CA', 'South Lake Tahoe, CA', 'South Pasadena, CA', 'South San Francisco, CA', 'Stanton, CA', 'Stockton, CA', 'Suisun City, CA', 'Sunnyvale, CA', 'Susanville, CA', 'Sutter Creek, CA', 'Taft, CA', 'Tehachapi, CA', 'Tehama, CA', 'Temecula, CA', 'Temple City, CA', 'Thousand Oaks, CA', 'Tiburon, CA', 'Torrance, CA', 'Tracy, CA', 'Trinidad, CA', 'Truckee, CA', 'Tulare, CA', 'Tulelake, CA', 'Turlock, CA', 'Tustin, CA', 'Twentynine Palms, CA', 'Ukiah, CA', 'Union City, CA', 'Upland, CA', 'Vacaville, CA', 'Vallejo, CA', 'Ventura, CA', 'Vernon, CA', 'Victorville, CA', 'Villa Park, CA', 'Visalia, CA', 'Vista, CA', 'Walnut, CA', 'Walnut Creek, CA', 'Wasco, CA', 'Waterford, CA', 'Watsonville, CA', 'Weed, CA', 'West Covina, CA', 'West Hollywood, CA', 'West Sacramento, CA', 'Westlake Village, CA', 'Westminster, CA', 'Westmorland, CA', 'Wheatland, CA', 'Whittier, CA', 'Wildomar, CA', 'Williams, CA', 'Willits, CA', 'Willows, CA', 'Windsor, CA', 'Winters, CA', 'Woodlake, CA', 'Woodland, CA', 'Woodside, CA', 'Yorba Linda, CA', 'Yountville, CA', 'Yreka, CA', 'Yuba City, CA', 'Yucaipa, CA', 'Yucca Valley, CA']"
     ]
    },
    {
     "name": "stdout",
     "output_type": "stream",
     "text": [
      "\n"
     ]
    }
   ],
   "source": [
    "# cities = ca_cities()\n",
    "len(cities)\n",
    "\n",
    "cali = [city + \", CA\" for city in cities]\n",
    "print(cali)"
   ]
  },
  {
   "cell_type": "code",
   "execution_count": 19,
   "metadata": {},
   "outputs": [],
   "source": [
    "coordinates = []\n",
    "\n",
    "for city in cali:\n",
    "    (lat,lng) = get_coords(city)\n",
    "    coordinates.append((lat,lng))\n"
   ]
  },
  {
   "cell_type": "code",
   "execution_count": 20,
   "metadata": {},
   "outputs": [],
   "source": [
    "lat = [x[0] for x in coordinates]\n",
    "lng = [x[1] for x in coordinates]"
   ]
  },
  {
   "cell_type": "code",
   "execution_count": 21,
   "metadata": {},
   "outputs": [],
   "source": [
    "dic = {'cities': cities,\n",
    "'lat': lat,\n",
    "'lng': lng}"
   ]
  },
  {
   "cell_type": "code",
   "execution_count": 25,
   "metadata": {},
   "outputs": [],
   "source": [
    "test = pd.DataFrame(dic)"
   ]
  },
  {
   "cell_type": "code",
   "execution_count": 31,
   "metadata": {},
   "outputs": [
    {
     "name": "stdout",
     "output_type": "stream",
     "text": [
      "weathermap/api/lat=34.5827699&lng=-117.409215\n"
     ]
    }
   ],
   "source": [
    "lat = test['lat']\n",
    "lng = test['lng']\n",
    "\n",
    "for x,y in zip(lat,lng):\n",
    "    base_url = f\"weathermap/api/lat={x}&lng={y}\"\n",
    "    print(base_url)\n",
    "    "
   ]
  }
 ],
 "metadata": {
  "kernelspec": {
   "display_name": "PythonData",
   "language": "python",
   "name": "pythondata"
  },
  "language_info": {
   "codemirror_mode": {
    "name": "ipython",
    "version": 3
   },
   "file_extension": ".py",
   "mimetype": "text/x-python",
   "name": "python",
   "nbconvert_exporter": "python",
   "pygments_lexer": "ipython3",
   "version": "3.6.0"
  }
 },
 "nbformat": 4,
 "nbformat_minor": 2
}
