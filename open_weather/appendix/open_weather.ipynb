{
 "cells": [
  {
   "cell_type": "code",
   "execution_count": 72,
   "metadata": {},
   "outputs": [],
   "source": [
    "import requests\n",
    "from pprint import pprint\n",
    "from datetime import datetime as dt\n",
    "from datetime import timedelta\n",
    "import seaborn as sns\n",
    "from config import b_api_key \n",
    "import numpy as np\n",
    "from matplotlib import pyplot as plt\n"
   ]
  },
  {
   "cell_type": "code",
   "execution_count": 59,
   "metadata": {},
   "outputs": [],
   "source": [
    "sns.set()"
   ]
  },
  {
   "cell_type": "code",
   "execution_count": 45,
   "metadata": {},
   "outputs": [],
   "source": [
    "def num_hours_ago(hours):\n",
    "    \"\"\"\n",
    "    Returns UTC time x hours ago.\n",
    "    \"\"\"\n",
    "#     from datetime import datetime as dt\n",
    "    date = dt.utcnow() - timedelta(hours=hours)\n",
    "    return dt.strftime(date, \"%Y-%m-%dT%H:%M:%S\")"
   ]
  },
  {
   "cell_type": "code",
   "execution_count": null,
   "metadata": {},
   "outputs": [],
   "source": [
    "# to make graphs/visualization/heatmap of cities with most pollution:\n",
    "# plot coordinates against a leaflet map, make marker sizes proportioinate to aqi.\n",
    "# want all historical data in last 30 days.\n",
    "# can make a plot that will have a sliding scale to have past 30 days for each city if user chooses city. "
   ]
  },
  {
   "cell_type": "code",
   "execution_count": 48,
   "metadata": {},
   "outputs": [],
   "source": [
    "def get_coords(location):\n",
    "    \"\"\"\n",
    "    Returns coordinates of address for given input.\n",
    "    \"\"\"\n",
    "    from config import g_api_key\n",
    "    base_url = f\"https://maps.googleapis.com/maps/api/geocode/json?address={location}&key={g_api_key}\"\n",
    "    \n",
    "    data = requests.get(base_url).json()\n",
    "    loc = data['results'][0]['geometry']['location']\n",
    "    \n",
    "    lat = loc['lat']\n",
    "    lng = loc['lng']\n",
    "    \n",
    "    return lat,lng"
   ]
  },
  {
   "cell_type": "code",
   "execution_count": 56,
   "metadata": {},
   "outputs": [],
   "source": [
    "def pollution(lat,lng):\n",
    "    \"\"\"\n",
    "    Returns pollution data from coordinates.\n",
    "    \"\"\"\n",
    "    from config import b_api_key \n",
    "    \n",
    "    end_datetime = num_hours_ago(1)\n",
    "    start_datetime = num_hours_ago(168)\n",
    "    \n",
    "    try:\n",
    "        base_url = f\"https://api.breezometer.com/air-quality/v2/historical/hourly?lat={lat}&lon={lng}&key={b_api_key}&start_datetime={start_datetime}&end_datetime={end_datetime}\"\n",
    "\n",
    "        data = requests.get(base_url).json()\n",
    "#         baqi = data['data']['indexes']['baqi']\n",
    "        \n",
    "    except:\n",
    "        print(data)\n",
    "\n",
    "    return data"
   ]
  },
  {
   "cell_type": "code",
   "execution_count": 71,
   "metadata": {},
   "outputs": [],
   "source": [
    "lat,lng = get_coords(\"san francisco\")\n",
    "pollution_data = pollution(lat,lng)"
   ]
  },
  {
   "cell_type": "code",
   "execution_count": 69,
   "metadata": {},
   "outputs": [],
   "source": [
    "x = [x['datetime'] for x in pollution_data['data']]\n",
    "y = [y['indexes']['baqi']['aqi'] for y in pollution_data['data']]"
   ]
  },
  {
   "cell_type": "code",
   "execution_count": 85,
   "metadata": {},
   "outputs": [
    {
     "data": {
      "image/png": "[encoded data removed]",
      "text/plain": [
       "<Figure size 432x288 with 1 Axes>"
      ]
     },
     "metadata": {},
     "output_type": "display_data"
    }
   ],
   "source": [
    "sns.scatterplot(x=x, y=y)\n",
    "plt.xticks(np.arange(len(x),step=23), labels, rotation=45)\n",
    "plt.show()"
   ]
  },
  {
   "cell_type": "code",
   "execution_count": 53,
   "metadata": {},
   "outputs": [],
   "source": [
    "# # Get pollution data for 1000 US cities\n",
    "\n",
    "# def pollution(coordinates):\n",
    "#     \"\"\"\n",
    "#     Returns pollution data from list of coordinates.\n",
    "#     \"\"\"\n",
    "#     from config import b_api_key \n",
    "    \n",
    "#     pollution_data = []\n",
    "    \n",
    "#     for k,v in coordinates.items():\n",
    "#         try:\n",
    "#             dic = {}\n",
    "\n",
    "#             lat = v[0]\n",
    "#             lng = v[1]\n",
    "#             base_url = f\"https://api.breezometer.com/air-quality/v2/current-conditions?lat={lat}&lon={lng}&key={b_api_key}&start_datetime=2018-10-21T06:00:00&end_datetime=2018-11-21T08:00:00\"\n",
    "\n",
    "#             data = requests.get(base_url).json()\n",
    "\n",
    "#             baqi = data['data']['indexes']['baqi']\n",
    "#             dic[k] = baqi\n",
    "#             dic[k]['coordinates'] = v\n",
    "\n",
    "#             pollution_data.append(dic)\n",
    "#         except:\n",
    "#             print(f\"Error accessing {k}'s data. Skipping...\")\n",
    "#             pass\n",
    "\n",
    "#     return pollution_data"
   ]
  },
  {
   "cell_type": "code",
   "execution_count": 2,
   "metadata": {},
   "outputs": [],
   "source": [
    "# # Get coordinates for 1000 US cities.\n",
    "\n",
    "# def city_coordinates():\n",
    "#     \"\"\"\n",
    "#     Returns dictionary of cities w/their coordinates.\n",
    "#     \"\"\"\n",
    "    \n",
    "#     base_url  = \"https://public.opendatasoft.com/api/records/1.0/search/?\"\n",
    "#     query = \"dataset=1000-largest-us-cities-by-population-with-geographic-coordinates&sort=-rank&facet=city&facet=state&rows=1000\"\n",
    "\n",
    "#     result = requests.get(base_url+query).json()\n",
    "\n",
    "#     records = result['records']\n",
    "\n",
    "#     dic = {}\n",
    "\n",
    "#     for record in records:\n",
    "#         dic[record['fields']['city']] = record['fields']['coordinates']\n",
    "    \n",
    "#     return dic"
   ]
  },
  {
   "cell_type": "code",
   "execution_count": 70,
   "metadata": {
    "scrolled": true
   },
   "outputs": [],
   "source": [
    "# # get past 30 days:\n",
    "# def last_x_days(day):\n",
    "#     \"\"\" \n",
    "#     Returns a list of last x days.\n",
    "#     \"\"\"\n",
    "#     dates = []\n",
    "#     for day in range(days):\n",
    "#         dates.append(num_days_ago(day))\n",
    "\n",
    "#     return dates"
   ]
  }
 ],
 "metadata": {
  "kernelspec": {
   "display_name": "PythonData",
   "language": "python",
   "name": "pythondata"
  },
  "language_info": {
   "codemirror_mode": {
    "name": "ipython",
    "version": 3
   },
   "file_extension": ".py",
   "mimetype": "text/x-python",
   "name": "python",
   "nbconvert_exporter": "python",
   "pygments_lexer": "ipython3",
   "version": "3.6.0"
  }
 },
 "nbformat": 4,
 "nbformat_minor": 2
}
