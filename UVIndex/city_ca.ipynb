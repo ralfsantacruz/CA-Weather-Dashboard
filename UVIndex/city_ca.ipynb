{
 "cells": [
  {
   "cell_type": "code",
   "execution_count": null,
   "metadata": {},
   "outputs": [],
   "source": [
    "# Import all dependencies\n",
    "import requests\n",
    "import json\n",
    "import pandas as pd\n",
    "import wikipedia as wp\n",
    "import pyowm\n",
    "import numpy as np\n",
    "import requests\n",
    "\n",
    "from config import gkey\n",
    "from geopy.geocoders import Nominatim"
   ]
  },
  {
   "cell_type": "code",
   "execution_count": null,
   "metadata": {},
   "outputs": [],
   "source": [
    "#Get the html source\n",
    "html = wp.page(\"List of cities and towns in California\").html().encode(\"UTF-8\")\n",
    "df = pd.read_html(html)[1]\n",
    "df.head()"
   ]
  },
  {
   "cell_type": "code",
   "execution_count": null,
   "metadata": {},
   "outputs": [],
   "source": [
    "df2 = df.drop(df.index[0])\n",
    "df2.head()"
   ]
  },
  {
   "cell_type": "code",
   "execution_count": null,
   "metadata": {},
   "outputs": [],
   "source": [
    "city_df = df2.drop(df2.index[0])\n"
   ]
  },
  {
   "cell_type": "code",
   "execution_count": null,
   "metadata": {},
   "outputs": [],
   "source": [
    "city_df2 = city_df.drop(columns={city_df.columns[3], city_df.columns[4], city_df.columns[5], city_df.columns[6]})\n",
    "city_df2.head()"
   ]
  },
  {
   "cell_type": "code",
   "execution_count": null,
   "metadata": {},
   "outputs": [],
   "source": [
    "city_df3 = city_df2.rename(columns={ df.columns[0]: \"city\", df.columns[1]: \"type\", df.columns[2]: 'county'})\n",
    "city_df3.head()"
   ]
  },
  {
   "cell_type": "code",
   "execution_count": null,
   "metadata": {},
   "outputs": [],
   "source": [
    "city_df3['state'] = 'california'\n",
    "city_df3.head()"
   ]
  },
  {
   "cell_type": "code",
   "execution_count": null,
   "metadata": {},
   "outputs": [],
   "source": [
    "# Add column lat and lng\n",
    "city_df3['lat']=\"\"\n",
    "city_df3['lng']=\"\"\n",
    "city_df3.head()"
   ]
  },
  {
   "cell_type": "code",
   "execution_count": null,
   "metadata": {},
   "outputs": [],
   "source": [
    "params = {'key': gkey}\n",
    "print(params)"
   ]
  },
  {
   "cell_type": "code",
   "execution_count": null,
   "metadata": {},
   "outputs": [],
   "source": [
    "for index, row in city_df3.iterrows():\n",
    "    base_url = 'https://maps.googleapis.com/maps/api/geocode/json'\n",
    "    \n",
    "    city = row['city']\n",
    "    state = row['state']\n",
    "    \n",
    "    params['address'] = f'{city}, {state}'\n",
    "    \n",
    "    cities_lat_lng = requests.get(base_url, params=params)\n",
    "    \n",
    "    cities_lat_lng = cities_lat_lng.json()\n",
    "    \n",
    "    city_df3.loc[index, 'lat'] = cities_lat_lng['results'][0]['geometry']['location']['lat']\n",
    "    city_df3.loc[index, 'lng'] = cities_lat_lng['results'][0]['geometry']['location']['lng']\n",
    "    \n",
    "city_df3.head()"
   ]
  },
  {
   "cell_type": "code",
   "execution_count": null,
   "metadata": {},
   "outputs": [],
   "source": [
    "city_df3.to_csv('california_cities.csv')"
   ]
  }
 ],
 "metadata": {
  "kernelspec": {
   "display_name": "Python 3",
   "language": "python",
   "name": "python3"
  },
  "language_info": {
   "codemirror_mode": {
    "name": "ipython",
    "version": 3
   },
   "file_extension": ".py",
   "mimetype": "text/x-python",
   "name": "python",
   "nbconvert_exporter": "python",
   "pygments_lexer": "ipython3",
   "version": "3.6.5"
  }
 },
 "nbformat": 4,
 "nbformat_minor": 2
}
